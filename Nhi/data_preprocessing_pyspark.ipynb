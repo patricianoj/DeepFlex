{
 "cells": [
  {
   "cell_type": "code",
   "execution_count": 11,
   "metadata": {},
   "outputs": [],
   "source": [
    "import scipy.io\n",
    "#import matplotlib.pyplot as plt\n",
    "import numpy as np\n",
    "import random\n",
    "#import scipy.signal as signal\n",
    "import pandas as pd\n",
    "#from sklearn.decomposition import PCA\n",
    "import math\n",
    "import os\n",
    "from pyspark.sql import SparkSession\n",
    "from pyspark.ml.feature import StringIndexer\n",
    "from pyspark.sql.functions import *\n",
    "from pyspark.sql.types import *\n",
    "\n",
    "import warnings\n",
    "warnings.filterwarnings('ignore')"
   ]
  },
  {
   "attachments": {},
   "cell_type": "markdown",
   "metadata": {},
   "source": [
    "## Load & Explore Data"
   ]
  },
  {
   "attachments": {},
   "cell_type": "markdown",
   "metadata": {},
   "source": [
    "#### Download and save the 'exercise_data.50.0000_singleonly.mat' file from the below link and save it locally in the same folder as this notebook file. \n",
    "\n",
    "https://msropendata.com/datasets/799c1167-2c8f-44c4-929c-227bf04e2b9a"
   ]
  },
  {
   "cell_type": "code",
   "execution_count": 12,
   "metadata": {},
   "outputs": [],
   "source": [
    "dataBaseDir = \"data/exercise_recognition_from_wearable_sensors\"\n",
    "single_activity_file_path = os.path.join(dataBaseDir, \"exercise_data.50.0000_singleonly.mat\")\n",
    "# Load exercise dataset \n",
    "exercise_dataset = scipy.io.loadmat(single_activity_file_path, struct_as_record=False)"
   ]
  },
  {
   "cell_type": "code",
   "execution_count": 3,
   "metadata": {},
   "outputs": [
    {
     "name": "stdout",
     "output_type": "stream",
     "text": [
      "__header__: 76\n",
      "__version__: 3\n",
      "__globals__: 0\n",
      "subject_data: 94\n",
      "exerciseConstants: 1\n",
      "Fs: 1\n"
     ]
    }
   ],
   "source": [
    "for k in exercise_dataset.keys():\n",
    "    print(f\"{k}: {len(exercise_dataset[k])}\")"
   ]
  },
  {
   "cell_type": "code",
   "execution_count": 13,
   "metadata": {},
   "outputs": [
    {
     "name": "stdout",
     "output_type": "stream",
     "text": [
      "<Initial Activity>\n",
      "Arm Band Adjustment\n",
      "Arm straight up\n",
      "Band Pull-Down Row\n",
      "Bicep Curl\n",
      "Biceps Curl (band)\n",
      "Box Jump (on bench)\n",
      "Burpee\n",
      "Butterfly Sit-up\n",
      "Chest Press (rack)\n",
      "Crunch\n",
      "Device on Table\n",
      "Dip\n",
      "Dumbbell Deadlift Row\n",
      "Dumbbell Row (knee on bench) (label spans both arms)\n",
      "Dumbbell Row (knee on bench) (left arm)\n",
      "Dumbbell Row (knee on bench) (right arm)\n",
      "Dumbbell Squat (hands at side)\n",
      "Dynamic Stretch (at your own pace)\n",
      "Elliptical machine\n",
      "Fast Alternating Punches\n",
      "Invalid\n",
      "Jump Rope\n",
      "Jumping Jacks\n",
      "Kettlebell Swing\n",
      "Lateral Raise\n",
      "Lawnmower (label spans both arms)\n",
      "Lawnmower (left arm)\n",
      "Lawnmower (right arm)\n",
      "Lunge (alternating both legs, weight optional)\n",
      "Medicine Ball Slam\n",
      "Non-Exercise\n",
      "Note\n",
      "Overhead Triceps Extension\n",
      "Overhead Triceps Extension (label spans both arms)\n",
      "Plank\n",
      "Power Boat pose\n",
      "Pushup (knee or foot variation)\n",
      "Pushups\n",
      "Repetitive Stretching\n",
      "Rest\n",
      "Rowing machine\n",
      "Running (treadmill)\n",
      "Russian Twist\n",
      "Seated Back Fly\n",
      "Shoulder Press (dumbbell)\n",
      "Side Plank Left side\n",
      "Side Plank Right side\n",
      "Sit-up (hands positioned behind head)\n",
      "Sit-ups\n",
      "Squat\n",
      "Squat (arms in front of body, parallel to ground)\n",
      "Squat (hands behind head)\n",
      "Squat (kettlebell / goblet)\n",
      "Squat Jump\n",
      "Squat Rack Shoulder Press\n",
      "Static Stretch (at your own pace)\n",
      "Static stretch\n",
      "Tap IMU Device\n",
      "Tap Left Device\n",
      "Tap Right Device\n",
      "Triceps Kickback (knee on bench) (label spans both arms)\n",
      "Triceps Kickback (knee on bench) (left arm)\n",
      "Triceps Kickback (knee on bench) (right arm)\n",
      "Triceps extension (lying down)\n",
      "Triceps extension (lying down) (left arm)\n",
      "Triceps extension (lying down) (right arm)\n",
      "Two-arm Dumbbell Curl (both arms, not alternating)\n",
      "Unlisted Exercise\n",
      "V-up\n",
      "Walk\n",
      "Walking lunge\n",
      "Wall Ball\n",
      "Wall Squat\n",
      "Alternating Dumbbell Curl\n"
     ]
    }
   ],
   "source": [
    "# Load activities and data full objects\n",
    "exercise_constants = exercise_dataset['exerciseConstants'][0][0].activities\n",
    "subject_data = exercise_dataset['subject_data']\n",
    "\n",
    "# extract activities names into an array\n",
    "all_activities = []\n",
    "for act in exercise_constants[0]:\n",
    "    all_activities.append(act[0])\n",
    "    print (act[0]) # print values for reference\n",
    "\n",
    "# only take data from 3 random exercises\n",
    "activities_to_process = random.choices(all_activities, k=3)"
   ]
  },
  {
   "cell_type": "code",
   "execution_count": 14,
   "metadata": {},
   "outputs": [
    {
     "data": {
      "text/plain": [
       "['Pushup (knee or foot variation)', 'Bicep Curl', 'Unlisted Exercise']"
      ]
     },
     "execution_count": 14,
     "metadata": {},
     "output_type": "execute_result"
    }
   ],
   "source": [
    "activities_to_process"
   ]
  },
  {
   "cell_type": "code",
   "execution_count": 15,
   "metadata": {},
   "outputs": [
    {
     "data": {
      "text/plain": [
       "75"
      ]
     },
     "execution_count": 15,
     "metadata": {},
     "output_type": "execute_result"
    }
   ],
   "source": [
    "len(all_activities)"
   ]
  },
  {
   "cell_type": "code",
   "execution_count": 16,
   "metadata": {},
   "outputs": [
    {
     "data": {
      "text/plain": [
       "60"
      ]
     },
     "execution_count": 16,
     "metadata": {},
     "output_type": "execute_result"
    }
   ],
   "source": [
    "# remove invalid activities from all_activities list\n",
    "invalid_activities = ['Arm Band Adjustment', 'Arm straight up', '<Initial Activity>', 'Note', 'Rest', 'Invalid',\n",
    "                      'Tap IMU Device', 'Unlisted Exercise', 'Device on Table', 'Tap Left Device', 'Tap Right Device',\n",
    "                      'Non-Exercise', 'Triceps extension (lying down) (left arm)',\n",
    "                      'Triceps extension (lying down) (right arm)', 'Alternating Dumbbell Curl']\n",
    "for act in invalid_activities:\n",
    "    all_activities.remove(act)\n",
    "len(all_activities)"
   ]
  },
  {
   "cell_type": "code",
   "execution_count": 17,
   "metadata": {},
   "outputs": [],
   "source": [
    "# define dictionaries for accelerometer and gyroscope data\n",
    "activities_accelerometer_data_dict = {activity: [] for activity in all_activities}\n",
    "activities_gyroscope_data_dict = {activity: [] for activity in all_activities}\n",
    "\n",
    "# iterate over subject data to search for those activities and save the data related\n",
    "for data_item in subject_data:\n",
    "    for x in data_item:\n",
    "        if len(x) > 0:\n",
    "            if x[0] is not None and len(x[0]) > 0:\n",
    "                data_activity_name = x[0,0].activityName[0]\n",
    "                data_item_accelDataMatrix = x[0,0].data[0,0].accelDataMatrix\n",
    "                data_item_gyroDataMatrix = x[0,0].data[0,0].gyroDataMatrix\n",
    "                if data_activity_name in all_activities:\n",
    "                    activities_accelerometer_data_dict[data_activity_name].append(data_item_accelDataMatrix)\n",
    "                    activities_gyroscope_data_dict[data_activity_name].append(data_item_gyroDataMatrix)"
   ]
  },
  {
   "cell_type": "code",
   "execution_count": null,
   "metadata": {},
   "outputs": [],
   "source": []
  },
  {
   "attachments": {},
   "cell_type": "markdown",
   "metadata": {},
   "source": [
    "## Segmentation Pre-Processing\n",
    "Given data points containing x,y,z, and time, how would you smooth this data with a Butterworth low-pass filter (-60dB at 20Hz), then windowed into 5-second windows sliding at 200ms (i.e., each 5s window shares 4.8s of data with the previous window)"
   ]
  },
  {
   "cell_type": "code",
   "execution_count": null,
   "metadata": {},
   "outputs": [],
   "source": []
  },
  {
   "cell_type": "code",
   "execution_count": null,
   "metadata": {},
   "outputs": [],
   "source": []
  },
  {
   "attachments": {},
   "cell_type": "markdown",
   "metadata": {},
   "source": []
  },
  {
   "attachments": {},
   "cell_type": "markdown",
   "metadata": {},
   "source": [
    "## Segmentation Feature Computation\n",
    "1) aX: the X-axis accelerometer signal\n",
    "\n",
    "2) aXmag: the magnitude of the accelerometer signal at each sample, i.e. sqrt(ax2+ay2+az2).\n",
    "\n",
    "3) aPC1: the projection of the three-dimensional accelerometer signal onto its first principal component. This is the movement along the axis that demonstrates the most variance within this window, or – anecdotally – themost “interesting” rotation of the window.\n",
    "\n",
    "4) aYZPC1: the projection of only the Y and Z axes onto the first principal component of those two axes. This captures movement perpendicular to the arm, which allows us to derive information from the Y and Z axes despite the unknown rotation of the armband."
   ]
  },
  {
   "cell_type": "code",
   "execution_count": 18,
   "metadata": {},
   "outputs": [
    {
     "name": "stderr",
     "output_type": "stream",
     "text": [
      "Setting default log level to \"WARN\".\n",
      "To adjust logging level use sc.setLogLevel(newLevel). For SparkR, use setLogLevel(newLevel).\n"
     ]
    },
    {
     "name": "stdout",
     "output_type": "stream",
     "text": [
      "23/06/26 15:10:25 WARN NativeCodeLoader: Unable to load native-hadoop library for your platform... using builtin-java classes where applicable\n"
     ]
    },
    {
     "name": "stderr",
     "output_type": "stream",
     "text": [
      "[Stage 0:>                                                          (0 + 0) / 1]\r"
     ]
    },
    {
     "name": "stdout",
     "output_type": "stream",
     "text": [
      "23/06/26 15:11:33 WARN TaskSetManager: Stage 0 contains a task of very large size (44569 KiB). The maximum recommended task size is 1000 KiB.\n"
     ]
    },
    {
     "name": "stderr",
     "output_type": "stream",
     "text": [
      "                                                                                \r"
     ]
    },
    {
     "name": "stdout",
     "output_type": "stream",
     "text": [
      "+---------------+------------------+----------------+-----------------+-------------------+-------------------+-------------------+\n",
      "|overall_set_num|     activity_name|activity_set_num|             time|                  x|                  y|                  z|\n",
      "+---------------+------------------+----------------+-----------------+-------------------+-------------------+-------------------+\n",
      "|              0|Band Pull-Down Row|               0|674.1154982887862| -75.42962715593848|-23.459580529916664| -7.287340262552914|\n",
      "|              0|Band Pull-Down Row|               0|674.1354981552279|  -37.8058679867162| -11.59542816826023|-16.031327760189498|\n",
      "|              0|Band Pull-Down Row|               0|674.1554980216698|-30.373596887806915|-0.7170596262406321|-22.053160641018366|\n",
      "|              0|Band Pull-Down Row|               0|674.1754978881116| -25.18043401739627|  9.136661226161516| -16.78585471129029|\n",
      "|              0|Band Pull-Down Row|               0|674.1954977545535| -13.56973129485236| 11.193114878379559|-15.854102861392157|\n",
      "|              0|Band Pull-Down Row|               0|674.2154976209954|  5.860630784114318| 24.008615533631264| 1.2031558217078553|\n",
      "|              0|Band Pull-Down Row|               0|674.2354974874372|  29.32756438977162|  33.80817866744835| 34.123743676815415|\n",
      "|              0|Band Pull-Down Row|               0| 674.255497353879|  52.62982105435206|  42.96018007928944|  48.61810719790801|\n",
      "|              0|Band Pull-Down Row|               0|674.2754972203209|  50.89831042082033|   46.2497149585398|  62.73749880207533|\n",
      "|              0|Band Pull-Down Row|               0|674.2954970867627| 60.292108240519475|  43.05520136008207| 60.274919152476805|\n",
      "|              0|Band Pull-Down Row|               0|674.3154969532045|  81.80411871561061|  36.66749297311571|  55.37296352704424|\n",
      "|              0|Band Pull-Down Row|               0|674.3354968196464| 116.94220423707937|  34.43196832745947| 55.530445856391545|\n",
      "|              0|Band Pull-Down Row|               0|674.3554966860883| 116.77029929110086|  48.03324389946707|  56.92079577731378|\n",
      "|              0|Band Pull-Down Row|               0|674.3754965525301| 139.84059291654728|  63.40907488431323| 27.090027514091922|\n",
      "|              0|Band Pull-Down Row|               0|674.3954964189719| 154.03112007211183|  36.79618239700045|  4.597754688199271|\n",
      "|              0|Band Pull-Down Row|               0|674.4154962854137|  119.4880766035833|  47.46940362297351|  30.39428109810045|\n",
      "|              0|Band Pull-Down Row|               0|674.4354961518557| 113.27873990639942|  63.59751415962464| 31.742925693336744|\n",
      "|              0|Band Pull-Down Row|               0|674.4554960182974| 110.91627727550272|  58.29039716450226| 29.370559015896436|\n",
      "|              0|Band Pull-Down Row|               0|674.4754958847393| 120.48309702255517|   54.7651421418063|  13.37900043842763|\n",
      "|              0|Band Pull-Down Row|               0|674.4954957511812| 109.79153896887567|  58.65470371256837| 13.068756663123327|\n",
      "+---------------+------------------+----------------+-----------------+-------------------+-------------------+-------------------+\n",
      "only showing top 20 rows\n",
      "\n",
      "23/06/26 15:11:36 WARN TaskSetManager: Stage 1 contains a task of very large size (44572 KiB). The maximum recommended task size is 1000 KiB.\n"
     ]
    },
    {
     "name": "stderr",
     "output_type": "stream",
     "text": [
      "[Stage 1:>                                                          (0 + 1) / 1]\r"
     ]
    },
    {
     "name": "stdout",
     "output_type": "stream",
     "text": [
      "+---------------+------------------+----------------+-----------------+-------------------+--------------------+--------------------+\n",
      "|overall_set_num|     activity_name|activity_set_num|             time|                  x|                   y|                   z|\n",
      "+---------------+------------------+----------------+-----------------+-------------------+--------------------+--------------------+\n",
      "|              1|Band Pull-Down Row|               0|674.1154982887862| 0.1276259925697181| -0.6812928678115924|-0.14625478637439904|\n",
      "|              1|Band Pull-Down Row|               0|674.1354981552279|0.07272240139603864|-0.46817981683837834|6.388127509546412E-4|\n",
      "|              1|Band Pull-Down Row|               0|674.1554980216698| 0.0442798019759728| -0.4179801589818037| 0.13054040138988118|\n",
      "|              1|Band Pull-Down Row|               0|674.1754978881116|0.18147223442236618|-0.49043102365636226| 0.14143943077158078|\n",
      "|              1|Band Pull-Down Row|               0|674.1954977545535| 0.2705647305980677| -0.6926477203950938| 0.23535283062271006|\n",
      "|              1|Band Pull-Down Row|               0|674.2154976209954|0.42980826573600817| -0.7929701222992438| 0.37508977684802913|\n",
      "|              1|Band Pull-Down Row|               0|674.2354974874372| 0.5851242334390372| -0.7347086878087102|  0.4722704227967597|\n",
      "|              1|Band Pull-Down Row|               0| 674.255497353879| 0.6433206917052154| -0.6795946776228285|  0.4724058720831926|\n",
      "|              1|Band Pull-Down Row|               0|674.2754972203209| 0.7315904716909515| -0.7240226567478615|  0.4952716520454433|\n",
      "|              1|Band Pull-Down Row|               0|674.2954970867627| 0.8683192530300144|  -0.878199096858001|  0.5313529293519887|\n",
      "|              1|Band Pull-Down Row|               0|674.3154969532045|  0.888028202213728| -1.0018081199563158|  0.4740376429850544|\n",
      "|              1|Band Pull-Down Row|               0|674.3354968196464| 0.9876985161193612| -0.9680875247330216|  0.4533383705946729|\n",
      "|              1|Band Pull-Down Row|               0|674.3554966860883| 1.2431292466511707| -0.8459214558120468| 0.45692048111589806|\n",
      "|              1|Band Pull-Down Row|               0|674.3754965525301| 0.9050044561100086| -0.8832109925368582| 0.29589249691032476|\n",
      "|              1|Band Pull-Down Row|               0|674.3954964189719| 0.6659357534835902| -0.8030540066421674| 0.24051024694833936|\n",
      "|              1|Band Pull-Down Row|               0|674.4154962854137| 0.9734146920050586| -0.6942165269784348|  0.3352947126537439|\n",
      "|              1|Band Pull-Down Row|               0|674.4354961518557|  0.877006739552652| -0.8353594455332332|  0.4481444714217436|\n",
      "|              1|Band Pull-Down Row|               0|674.4554960182974| 0.6743786119376426| -0.9604846452688466| 0.44125034281476183|\n",
      "|              1|Band Pull-Down Row|               0|674.4754958847393|  0.571915119366509| -0.8239377425571704|  0.4625896572900818|\n",
      "|              1|Band Pull-Down Row|               0|674.4954957511812| 0.5544198569018289| -0.7574126457486197| 0.47580734720324064|\n",
      "+---------------+------------------+----------------+-----------------+-------------------+--------------------+--------------------+\n",
      "only showing top 20 rows\n",
      "\n"
     ]
    },
    {
     "name": "stderr",
     "output_type": "stream",
     "text": [
      "                                                                                \r"
     ]
    }
   ],
   "source": [
    "# Increase memory allocation\n",
    "spark = SparkSession.builder.config(\"spark.driver.memory\", \"16g\").config(\"spark.executor.memory\", \"16g\").getOrCreate()\n",
    "\n",
    "# turn activities_gyroscope_data_dict and activities_accelerometer_data_dict into a spark dataframe\n",
    "ss = SparkSession.builder.getOrCreate()\n",
    "sc = ss.sparkContext\n",
    "\n",
    "# create schema for data\n",
    "schema = StructType([\n",
    "    StructField('overall_set_num', IntegerType(), True),\n",
    "    StructField('activity_name', StringType(), True),\n",
    "    StructField('activity_set_num', IntegerType(), True),\n",
    "    StructField('time', DoubleType(), True),\n",
    "    StructField('x', DoubleType(), True),\n",
    "    StructField('y', DoubleType(), True),\n",
    "    StructField('z', DoubleType(), True)\n",
    "])\n",
    "\n",
    "# create empty dataframes\n",
    "gyroscope_df = ss.createDataFrame(sc.emptyRDD(), schema)\n",
    "accelerometer_df = ss.createDataFrame(sc.emptyRDD(), schema)\n",
    "gyroscope_data = []\n",
    "accelerometer_data = []\n",
    "\n",
    "# Iterate over activities and append data to dataframes\n",
    "overall_set_num = 0\n",
    "for activity in all_activities:\n",
    "    for activity_set_num, activity_set in enumerate(activities_gyroscope_data_dict[activity]):\n",
    "        for time_point in activity_set:\n",
    "            data_row = (overall_set_num, str(activity), activity_set_num, float(time_point[0]), float(time_point[1]), float(time_point[2]), float(time_point[3]))\n",
    "            gyroscope_data.append(data_row)\n",
    "        overall_set_num += 1\n",
    "    overall_set_num -= activity_set_num\n",
    "    for activity_set_num, activity_set in enumerate(activities_accelerometer_data_dict[activity]):\n",
    "        for time_point in activity_set:\n",
    "            data_row = (overall_set_num, str(activity), activity_set_num, float(time_point[0]), float(time_point[1]), float(time_point[2]), float(time_point[3]))\n",
    "            accelerometer_data.append(data_row)\n",
    "        overall_set_num += 1\n",
    "# Create dataframes directly from the lists of data rows\n",
    "gyroscope_df = ss.createDataFrame(gyroscope_data, schema).persist()\n",
    "accelerometer_df = ss.createDataFrame(accelerometer_data, schema).persist()\n",
    "\n",
    "# Show dataframes\n",
    "gyroscope_df.show()\n",
    "accelerometer_df.show()"
   ]
  },
  {
   "cell_type": "code",
   "execution_count": 10,
   "metadata": {},
   "outputs": [
    {
     "name": "stdout",
     "output_type": "stream",
     "text": [
      "23/06/26 14:53:03 WARN TaskSetManager: Stage 2 contains a task of very large size (44569 KiB). The maximum recommended task size is 1000 KiB.\n"
     ]
    },
    {
     "name": "stderr",
     "output_type": "stream",
     "text": [
      "                                                                                \r"
     ]
    },
    {
     "name": "stdout",
     "output_type": "stream",
     "text": [
      "23/06/26 14:53:08 WARN TaskSetManager: Stage 5 contains a task of very large size (44572 KiB). The maximum recommended task size is 1000 KiB.\n"
     ]
    },
    {
     "name": "stderr",
     "output_type": "stream",
     "text": [
      "                                                                                \r"
     ]
    },
    {
     "name": "stdout",
     "output_type": "stream",
     "text": [
      "23/06/26 14:53:12 WARN TaskSetManager: Stage 8 contains a task of very large size (44569 KiB). The maximum recommended task size is 1000 KiB.\n"
     ]
    },
    {
     "name": "stderr",
     "output_type": "stream",
     "text": [
      "[Stage 8:>                                                          (0 + 8) / 8]\r"
     ]
    },
    {
     "name": "stdout",
     "output_type": "stream",
     "text": [
      "6134191\n"
     ]
    },
    {
     "name": "stderr",
     "output_type": "stream",
     "text": [
      "                                                                                \r"
     ]
    }
   ],
   "source": [
    "assert(gyroscope_df.count() == accelerometer_df.count())\n",
    "print(gyroscope_df.count())"
   ]
  },
  {
   "attachments": {},
   "cell_type": "markdown",
   "metadata": {},
   "source": []
  },
  {
   "cell_type": "code",
   "execution_count": 19,
   "metadata": {},
   "outputs": [
    {
     "name": "stdout",
     "output_type": "stream",
     "text": [
      "23/06/26 15:11:38 WARN TaskSetManager: Stage 2 contains a task of very large size (44572 KiB). The maximum recommended task size is 1000 KiB.\n"
     ]
    },
    {
     "name": "stderr",
     "output_type": "stream",
     "text": [
      "[Stage 2:>                  (0 + 8) / 8][Stage 3:>                  (0 + 0) / 8]\r"
     ]
    },
    {
     "name": "stdout",
     "output_type": "stream",
     "text": [
      "23/06/26 15:11:44 WARN TaskSetManager: Stage 3 contains a task of very large size (44569 KiB). The maximum recommended task size is 1000 KiB.\n"
     ]
    },
    {
     "name": "stderr",
     "output_type": "stream",
     "text": [
      "[Stage 3:=============================>                             (4 + 4) / 8]\r"
     ]
    },
    {
     "name": "stdout",
     "output_type": "stream",
     "text": [
      "+-------+------------------+------------------+-------------------+-------------------+-------------------+-------------------+--------------------+--------------------+\n",
      "|set_num|          activity|              time|             x_gyro|             y_gyro|             z_gyro|              x_acc|               y_acc|               z_acc|\n",
      "+-------+------------------+------------------+-------------------+-------------------+-------------------+-------------------+--------------------+--------------------+\n",
      "|      0|Band Pull-Down Row| 676.1154849329704| -15.14763447507412| 23.954241105837042| 14.705304192571623| 0.3569856777362959| -0.8234100781781484| -0.0311893407993077|\n",
      "|      0|Band Pull-Down Row| 679.0554652999215|-148.99338894204254|-1.7270497479444022|  -8.24358923776973|0.01903238626232883| -0.8876219858839315|-0.21587195539957008|\n",
      "|      0|Band Pull-Down Row| 679.6154615602932| 147.98847345454536| 3.7689166045538247|   95.4527350396289| 0.5575600651872523| -1.1305198541798316|  0.6880998296539841|\n",
      "|      0|Band Pull-Down Row| 681.5754484715939|-140.09373814837403| -29.37286303388488| 32.133630822709506| 0.4488616596654417|  -0.735180472599821| 0.23649609139192207|\n",
      "|      0|Band Pull-Down Row| 684.7754271022889| -21.68639832285201| -1.344477264512245|-0.5170164993307018|0.36761928009054534| -0.5573269021631619|   0.755908837992571|\n",
      "|      0|Band Pull-Down Row| 693.8753663333277| 50.214057045336105|   6.61242771769515|  40.99436763890229| 0.6639086893465587| -0.5860546139047014|  0.6288464925718086|\n",
      "|      0|Band Pull-Down Row| 695.3953561829079|  9.490849396947725|  2.968078591754294|  6.198623123525789|  0.432140862672256| -0.6751020000853744| 0.14193015099347087|\n",
      "|      0|Band Pull-Down Row| 710.9152525417786|  4.590153509989617|-0.3076193948499029|    8.8426320058915|0.46674615967238287| -0.7046375954754165|  0.5237515280432443|\n",
      "|      0|Band Pull-Down Row| 715.1752240938913| 43.570603658742385| -6.317455703273206|  39.45993996626934| 0.7431966235913603| -1.1241647880189405|  0.4804191187674668|\n",
      "|      0|Band Pull-Down Row| 716.1552175495418| 17.888716859140693|   42.5540834917636|  43.17070041191053| 0.8027492424024788| -0.7247346092623334|0.049291741112828275|\n",
      "|      0|Band Pull-Down Row|  718.555201522563|-37.793039740884595|  4.810500625953995| -39.75012438748379|0.33830559790081005|  -1.162446251050548| -0.1224547068697182|\n",
      "|      0|        Bicep Curl|1076.3574764532111| 10.654456214379422|  30.90373544066494|    5.0966358108036|-0.9521807042744458| -0.1358147058020237| 0.14166623833353967|\n",
      "|      0|        Bicep Curl|1081.9374633707935| 12.346811830228399|  87.46879498585037|   31.4379666241953|-0.9217007069562722|-0.24417704037683843|  0.4781181845361131|\n",
      "|      0|        Bicep Curl|1084.6374570405912|   23.1234369200865|-14.549406549393915|  -40.0113404847277|-0.8042734089153961|-0.02387200711147...|   0.484642093296722|\n",
      "|      0|        Bicep Curl|1094.8974329858233| 26.613035075713615|  84.24004490966813|  4.588391285955565|0.04350902660065586|-0.10269271943424095|  0.9975255383965125|\n",
      "|      0|        Bicep Curl|1095.1574323762484|  9.979113661349677|  81.20391148194176|  40.62697700888274|-0.5200622101198765|0.023319717646123728| 0.27451285144963933|\n",
      "|      0|        Bicep Curl|1098.1574253426904| 15.737102626244177| 13.072106621423979|-13.912498512034626|-1.1179029648091554|-0.10282533944539221| 0.27236112777107907|\n",
      "|      0|        Bicep Curl|1099.0774231857329| -60.36975419916192|  189.7126303644022|  65.09078500419487| 0.3839301607363752|-0.24131487512412247|  0.7288238202978129|\n",
      "|      0|        Bicep Curl| 1099.277422716829|-17.708932280547646| 167.19328336655093|  47.24161793054961|-0.4969604345469686|-0.22349471769175652|  0.6410603125361766|\n",
      "|      0|        Bicep Curl|1101.6374171837633|-0.3350397591857473| -10.09065193009726|-29.914145760209525|-0.9781922813110063|0.012741334451330159|-0.14648078638693487|\n",
      "+-------+------------------+------------------+-------------------+-------------------+-------------------+-------------------+--------------------+--------------------+\n",
      "only showing top 20 rows\n",
      "\n"
     ]
    },
    {
     "name": "stderr",
     "output_type": "stream",
     "text": [
      "                                                                                \r"
     ]
    }
   ],
   "source": [
    "from pyspark.sql.functions import col\n",
    "\n",
    "# Join gyroscope_df and accelerometer_df on overall_set_num, activity_set_num, activity_name, and time\n",
    "df = gyroscope_df.alias('gyro').join(\n",
    "    accelerometer_df.alias('acc'),\n",
    "    (col('gyro.activity_set_num') == col('acc.activity_set_num')) &\n",
    "    (col('gyro.activity_name') == col('acc.activity_name')) &\n",
    "    (col('gyro.time') == col('acc.time')),\n",
    "    'inner'\n",
    ").select(\n",
    "    col('gyro.activity_set_num').alias('set_num'),\n",
    "    col('gyro.activity_name').alias('activity'),\n",
    "    col('gyro.time'),\n",
    "    col('gyro.x').alias('x_gyro'),\n",
    "    col('gyro.y').alias('y_gyro'),\n",
    "    col('gyro.z').alias('z_gyro'),\n",
    "    col('acc.x').alias('x_acc'),\n",
    "    col('acc.y').alias('y_acc'),\n",
    "    col('acc.z').alias('z_acc')\n",
    ").persist()\n",
    "\n",
    "df.show()"
   ]
  },
  {
   "cell_type": "code",
   "execution_count": 20,
   "metadata": {},
   "outputs": [
    {
     "name": "stderr",
     "output_type": "stream",
     "text": [
      "                                                                                \r"
     ]
    },
    {
     "data": {
      "text/plain": [
       "6134191"
      ]
     },
     "execution_count": 20,
     "metadata": {},
     "output_type": "execute_result"
    }
   ],
   "source": [
    "df.count()"
   ]
  },
  {
   "cell_type": "code",
   "execution_count": 21,
   "metadata": {},
   "outputs": [
    {
     "name": "stderr",
     "output_type": "stream",
     "text": [
      "                                                                                \r"
     ]
    },
    {
     "data": {
      "text/plain": [
       "(6134191, 10)"
      ]
     },
     "execution_count": 21,
     "metadata": {},
     "output_type": "execute_result"
    }
   ],
   "source": [
    "# Convert activity names to numeric labels\n",
    "labelIndexer = StringIndexer(inputCol=\"activity\", outputCol=\"label\")\n",
    "df = labelIndexer.fit(df).transform(df)\n",
    "\n",
    "# Define the feature columns\n",
    "featureCols = [\"x_gyro\", \"y_gyro\", \"z_gyro\", \"x_acc\", \"y_acc\", \"z_acc\"]\n",
    "\n",
    "# Convert the PySpark DataFrames to Pandas DataFrames\n",
    "df_pd = df.toPandas()\n",
    "df_pd.shape"
   ]
  },
  {
   "cell_type": "code",
   "execution_count": 22,
   "metadata": {},
   "outputs": [
    {
     "data": {
      "text/html": [
       "<div>\n",
       "<style scoped>\n",
       "    .dataframe tbody tr th:only-of-type {\n",
       "        vertical-align: middle;\n",
       "    }\n",
       "\n",
       "    .dataframe tbody tr th {\n",
       "        vertical-align: top;\n",
       "    }\n",
       "\n",
       "    .dataframe thead th {\n",
       "        text-align: right;\n",
       "    }\n",
       "</style>\n",
       "<table border=\"1\" class=\"dataframe\">\n",
       "  <thead>\n",
       "    <tr style=\"text-align: right;\">\n",
       "      <th></th>\n",
       "      <th>set_num</th>\n",
       "      <th>activity</th>\n",
       "      <th>time</th>\n",
       "      <th>x_gyro</th>\n",
       "      <th>y_gyro</th>\n",
       "      <th>z_gyro</th>\n",
       "      <th>x_acc</th>\n",
       "      <th>y_acc</th>\n",
       "      <th>z_acc</th>\n",
       "      <th>label</th>\n",
       "    </tr>\n",
       "  </thead>\n",
       "  <tbody>\n",
       "    <tr>\n",
       "      <th>0</th>\n",
       "      <td>0</td>\n",
       "      <td>Band Pull-Down Row</td>\n",
       "      <td>676.115485</td>\n",
       "      <td>-15.147634</td>\n",
       "      <td>23.954241</td>\n",
       "      <td>14.705304</td>\n",
       "      <td>0.356986</td>\n",
       "      <td>-0.823410</td>\n",
       "      <td>-0.031189</td>\n",
       "      <td>46.0</td>\n",
       "    </tr>\n",
       "    <tr>\n",
       "      <th>1</th>\n",
       "      <td>0</td>\n",
       "      <td>Band Pull-Down Row</td>\n",
       "      <td>679.055465</td>\n",
       "      <td>-148.993389</td>\n",
       "      <td>-1.727050</td>\n",
       "      <td>-8.243589</td>\n",
       "      <td>0.019032</td>\n",
       "      <td>-0.887622</td>\n",
       "      <td>-0.215872</td>\n",
       "      <td>46.0</td>\n",
       "    </tr>\n",
       "    <tr>\n",
       "      <th>2</th>\n",
       "      <td>0</td>\n",
       "      <td>Band Pull-Down Row</td>\n",
       "      <td>679.615462</td>\n",
       "      <td>147.988473</td>\n",
       "      <td>3.768917</td>\n",
       "      <td>95.452735</td>\n",
       "      <td>0.557560</td>\n",
       "      <td>-1.130520</td>\n",
       "      <td>0.688100</td>\n",
       "      <td>46.0</td>\n",
       "    </tr>\n",
       "    <tr>\n",
       "      <th>3</th>\n",
       "      <td>0</td>\n",
       "      <td>Band Pull-Down Row</td>\n",
       "      <td>681.575448</td>\n",
       "      <td>-140.093738</td>\n",
       "      <td>-29.372863</td>\n",
       "      <td>32.133631</td>\n",
       "      <td>0.448862</td>\n",
       "      <td>-0.735180</td>\n",
       "      <td>0.236496</td>\n",
       "      <td>46.0</td>\n",
       "    </tr>\n",
       "    <tr>\n",
       "      <th>4</th>\n",
       "      <td>0</td>\n",
       "      <td>Band Pull-Down Row</td>\n",
       "      <td>684.775427</td>\n",
       "      <td>-21.686398</td>\n",
       "      <td>-1.344477</td>\n",
       "      <td>-0.517016</td>\n",
       "      <td>0.367619</td>\n",
       "      <td>-0.557327</td>\n",
       "      <td>0.755909</td>\n",
       "      <td>46.0</td>\n",
       "    </tr>\n",
       "  </tbody>\n",
       "</table>\n",
       "</div>"
      ],
      "text/plain": [
       "   set_num            activity        time      x_gyro     y_gyro     z_gyro  \\\n",
       "0        0  Band Pull-Down Row  676.115485  -15.147634  23.954241  14.705304   \n",
       "1        0  Band Pull-Down Row  679.055465 -148.993389  -1.727050  -8.243589   \n",
       "2        0  Band Pull-Down Row  679.615462  147.988473   3.768917  95.452735   \n",
       "3        0  Band Pull-Down Row  681.575448 -140.093738 -29.372863  32.133631   \n",
       "4        0  Band Pull-Down Row  684.775427  -21.686398  -1.344477  -0.517016   \n",
       "\n",
       "      x_acc     y_acc     z_acc  label  \n",
       "0  0.356986 -0.823410 -0.031189   46.0  \n",
       "1  0.019032 -0.887622 -0.215872   46.0  \n",
       "2  0.557560 -1.130520  0.688100   46.0  \n",
       "3  0.448862 -0.735180  0.236496   46.0  \n",
       "4  0.367619 -0.557327  0.755909   46.0  "
      ]
     },
     "execution_count": 22,
     "metadata": {},
     "output_type": "execute_result"
    }
   ],
   "source": [
    "df_pd.head()"
   ]
  },
  {
   "cell_type": "code",
   "execution_count": 23,
   "metadata": {},
   "outputs": [],
   "source": [
    "# save the processed dataframe to csv file\n",
    "df_pd.to_csv('exercise_recognition_data.csv', index=False)"
   ]
  },
  {
   "cell_type": "code",
   "execution_count": 24,
   "metadata": {},
   "outputs": [
    {
     "data": {
      "text/plain": [
       "DataFrame[set_num: int, activity: string, time: double, x_gyro: double, y_gyro: double, z_gyro: double, x_acc: double, y_acc: double, z_acc: double, label: double]"
      ]
     },
     "execution_count": 24,
     "metadata": {},
     "output_type": "execute_result"
    }
   ],
   "source": [
    "# Clear the cache after converting pyspark dataframe into pandas df\n",
    "gyroscope_df.unpersist()\n",
    "accelerometer_df.unpersist()\n",
    "df.unpersist()"
   ]
  },
  {
   "cell_type": "code",
   "execution_count": 25,
   "metadata": {},
   "outputs": [],
   "source": [
    "# shut down spark to save memory\n",
    "spark.stop()"
   ]
  },
  {
   "attachments": {},
   "cell_type": "markdown",
   "metadata": {},
   "source": []
  }
 ],
 "metadata": {
  "kernelspec": {
   "display_name": "deep_learning",
   "language": "python",
   "name": "python3"
  },
  "language_info": {
   "codemirror_mode": {
    "name": "ipython",
    "version": 3
   },
   "file_extension": ".py",
   "mimetype": "text/x-python",
   "name": "python",
   "nbconvert_exporter": "python",
   "pygments_lexer": "ipython3",
   "version": "3.10.0"
  },
  "orig_nbformat": 4
 },
 "nbformat": 4,
 "nbformat_minor": 2
}
