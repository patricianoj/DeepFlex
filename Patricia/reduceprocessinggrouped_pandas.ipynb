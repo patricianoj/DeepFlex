{
 "cells": [
  {
   "attachments": {},
   "cell_type": "markdown",
   "metadata": {},
   "source": [
    "# Recognize Exercise Type Using Aggregated Statistics from the Signals\n",
    "- Map all exercise names to exercise type classes so that similar exercises (i.e dumbbell curl left arm and dumbbell curl right arm get grouped)\n",
    "- Model Neural Network\n",
    "- Cross-validated test loss: 0.5524, Cross-validated test accuracy: 0.8660"
   ]
  },
  {
   "attachments": {},
   "cell_type": "markdown",
   "metadata": {},
   "source": [
    "#### import libraries"
   ]
  },
  {
   "cell_type": "code",
   "execution_count": 1,
   "metadata": {},
   "outputs": [],
   "source": [
    "import matplotlib.pyplot as plt\n",
    "import multiprocessing\n",
    "import numpy as np\n",
    "import pandas as pd\n",
    "from pyspark.ml.feature import VectorAssembler\n",
    "from pyspark.ml.feature import PCA\n",
    "from pyspark.sql import SparkSession\n",
    "from pyspark.sql.functions import col, lag, udf, greatest, least, struct\n",
    "from pyspark.sql.types import *\n",
    "import random\n",
    "import scipy.signal as signal\n",
    "import scipy.io\n",
    "import warnings\n",
    "\n",
    "import torch\n",
    "import torch.nn as nn\n",
    "import torch.optim as optim\n",
    "import pandas as pd\n",
    "from sklearn.metrics import accuracy_score\n",
    "from sklearn.preprocessing import StandardScaler\n",
    "from sklearn.preprocessing import LabelEncoder\n",
    "\n",
    "warnings.filterwarnings('ignore')"
   ]
  },
  {
   "attachments": {},
   "cell_type": "markdown",
   "metadata": {},
   "source": [
    "## Load data\n",
    "- Data format: 1 row for each time point\n",
    "- Map the exercises to classes"
   ]
  },
  {
   "cell_type": "code",
   "execution_count": 15,
   "metadata": {},
   "outputs": [
    {
     "name": "stdout",
     "output_type": "stream",
     "text": [
      "<class 'pandas.core.frame.DataFrame'>\n",
      "RangeIndex: 6134191 entries, 0 to 6134190\n",
      "Data columns (total 11 columns):\n",
      " #   Column      Dtype  \n",
      "---  ------      -----  \n",
      " 0   Unnamed: 0  int64  \n",
      " 1   set_num     int64  \n",
      " 2   activity    object \n",
      " 3   time        float64\n",
      " 4   x_gyro      float64\n",
      " 5   y_gyro      float64\n",
      " 6   z_gyro      float64\n",
      " 7   x_acc       float64\n",
      " 8   y_acc       float64\n",
      " 9   z_acc       float64\n",
      " 10  label       float64\n",
      "dtypes: float64(8), int64(2), object(1)\n",
      "memory usage: 514.8+ MB\n"
     ]
    }
   ],
   "source": [
    "df = pd.read_csv(\"../bigfiles/exercise_recognition_data.csv\")\n",
    "df.info()"
   ]
  },
  {
   "cell_type": "code",
   "execution_count": 16,
   "metadata": {},
   "outputs": [],
   "source": [
    "# remove infrequent activities\n",
    "infrequent_activities = ['Box Jump (on bench)',\n",
    " 'Lawnmower (label spans both arms)',\n",
    " 'Overhead Triceps Extension (label spans both arms)']\n",
    "\n",
    "df = df[~df['activity'].isin(infrequent_activities)]"
   ]
  },
  {
   "cell_type": "code",
   "execution_count": 97,
   "metadata": {},
   "outputs": [],
   "source": [
    "# group columns according to this mapping:\n",
    "exercise_classes = {\n",
    "    \"Dumbbell Row\": [\n",
    "        \"Dumbbell Deadlift Row\",\n",
    "        \"Dumbbell Row (knee on bench) (label spans both arms)\",\n",
    "        \"Dumbbell Row (knee on bench) (left arm)\",\n",
    "        \"Dumbbell Row (knee on bench) (right arm)\",\n",
    "    ],\n",
    "    \"Band Pull-Down Row\": [ \"Band Pull-Down Row\" ],\n",
    "    \"Rowing machine\": [ \"Rowing machine\" ],\n",
    "    \"Lawnmower\": [\n",
    "        \"Lawnmower (label spans both arms)\",\n",
    "        \"Lawnmower (left arm)\",\n",
    "        \"Lawnmower (right arm)\",\n",
    "    ],\n",
    "    \"Back Exercise\": [\n",
    "        \"Seated Back Fly\"\n",
    "    ],    \n",
    "    \"Bicep Curl\": [\n",
    "        \"Bicep Curl\",\n",
    "        \"Biceps Curl (band)\",\n",
    "        \"Two-arm Dumbbell Curl (both arms, not alternating)\"\n",
    "    ],\n",
    "    \"Chest Press\": [\n",
    "        \"Chest Press (rack)\"\n",
    "    ],\n",
    "    \"Triceps Extension\": [\n",
    "        \"Overhead Triceps Extension\",\n",
    "        \"Overhead Triceps Extension (label spans both arms)\",\n",
    "        \"Triceps extension (lying down)\"\n",
    "    ],\n",
    "    \"Dip\": [\"Dip\"],\n",
    "    \"Tricep Kickback\": [\n",
    "        \"Triceps Kickback (knee on bench) (label spans both arms)\",\n",
    "        \"Triceps Kickback (knee on bench) (left arm)\",\n",
    "        \"Triceps Kickback (knee on bench) (right arm)\",\n",
    "    ],\n",
    "    \"Shoulder Press\": [\n",
    "        \"Shoulder Press (dumbbell)\",\n",
    "        \"Squat Rack Shoulder Press\"\n",
    "    ],\n",
    "    \"Lateral Raise\": [ \"Lateral Raise\" ],\n",
    "    \"Box Jump\" : [ \"Box Jump (on bench)\" ],\n",
    "    \"Lunge\": [ \n",
    "        \"Lunge (alternating both legs, weight optional)\", \n",
    "        \"Walking lunge\"\n",
    "    ],\n",
    "    \"Squat Variant\": [\n",
    "        \"Squat\",\n",
    "        \"Squat (arms in front of body, parallel to ground)\",\n",
    "        \"Squat (hands behind head)\",\n",
    "        \"Squat (kettlebell / goblet)\",\n",
    "        \"Squat Jump\"\n",
    "    ],\n",
    "    \"Weighted squat\": [\n",
    "        \"Dumbbell Squat (hands at side)\",\n",
    "        \"Squat (kettlebell / goblet)\"\n",
    "    ],\n",
    "    \"Wall Squat\": [\n",
    "        \"Wall Squat\"\n",
    "    ],\n",
    "    \"Sit Up Variant\": [\n",
    "        \"Butterfly Sit-up\",\n",
    "        \"Crunch\",\n",
    "        \"Sit-up (hands positioned behind head)\",\n",
    "        \"Sit-ups\",\n",
    "        \"V-up\"\n",
    "    ],\n",
    "    \"Russian Twist\": [\n",
    "        \"Russian Twist\"\n",
    "    ],\n",
    "    \"Plank\": [\n",
    "        \"Plank\",\n",
    "        \"Side Plank Left side\",\n",
    "        \"Side Plank Right side\",\n",
    "    ],\n",
    "    \"Stretches\": [\n",
    "        \"Dynamic Stretch (at your own pace)\",\n",
    "        \"Static Stretch (at your own pace)\",\n",
    "        \"Static stretch\",\n",
    "        \"Power Boat pose\",\n",
    "        \"Repetitive Stretching\",\n",
    "    ],\n",
    "    \"Push up variant\": [\n",
    "        \"Burpee\",\n",
    "        \"Pushup (knee or foot variation)\",\n",
    "        \"Pushups\",\n",
    "    ],\n",
    "    \"Elliptical machine\": [\n",
    "        \"Elliptical machine\"\n",
    "    ],\n",
    "    \"Fast Alternating Punches\": [\n",
    "        \"Fast Alternating Punches\"\n",
    "    ],\n",
    "    \"Jump Rope\": [\n",
    "        \"Jump Rope\"\n",
    "    ],\n",
    "    \"Jumping Jacks\": [\n",
    "        \"Jumping Jacks\"\n",
    "    ],\n",
    "    \"Running (treadmill)\": [\n",
    "        \"Running (treadmill)\"\n",
    "    ],\n",
    "    \"Walk\": [\n",
    "        \"Walk\"\n",
    "    ],\n",
    "    \"Kettlebell Swing\": [\n",
    "        \"Kettlebell Swing\"\n",
    "    ],\n",
    "    \"Medicine Ball Slam\": [\n",
    "        \"Medicine Ball Slam\"\n",
    "    ],\n",
    "    \"Wall Ball\": [\n",
    "        \"Wall Ball\"\n",
    "    ]\n",
    "}\n",
    "\n",
    "df['exercise_class'] = df['activity'].apply(lambda x: [k for k, v in exercise_classes.items() if x in v][0] \n",
    "                                                       if any(x in v for v in exercise_classes.values()) \n",
    "                                                       else 'Unknown')\n"
   ]
  },
  {
   "cell_type": "code",
   "execution_count": 98,
   "metadata": {},
   "outputs": [
    {
     "data": {
      "text/plain": [
       "array([], dtype=object)"
      ]
     },
     "execution_count": 98,
     "metadata": {},
     "output_type": "execute_result"
    }
   ],
   "source": [
    "df[df.exercise_class == 'Unknown'].activity.unique()"
   ]
  },
  {
   "attachments": {},
   "cell_type": "markdown",
   "metadata": {},
   "source": [
    "## Feature Computation\n",
    "Get interquartile range, variance, skewness, kurtosis, root mean square error of the signal amplitude\n",
    "aggregated for each set"
   ]
  },
  {
   "cell_type": "code",
   "execution_count": 99,
   "metadata": {},
   "outputs": [],
   "source": [
    "df_byset = df.groupby([\"exercise_class\",\"activity\",\"set_num\"])\n",
    "signal_cols = [col for col in df.columns \n",
    "               if col.startswith(\"x\") or col.startswith(\"y\") or col.startswith(\"z\")]\n"
   ]
  },
  {
   "cell_type": "code",
   "execution_count": 100,
   "metadata": {},
   "outputs": [],
   "source": [
    "df_means = df_byset[signal_cols].mean().add_suffix('_mean')\n",
    "df_iqr = df_byset[signal_cols].quantile(0.75) - df_byset[signal_cols].quantile(0.25)\n",
    "df_iqr = df_iqr.add_suffix('_iqr')\n",
    "df_var = df_byset[signal_cols].var().add_suffix('_var')\n",
    "df_skew = df_byset[signal_cols].skew().add_suffix('_skew')\n",
    "df_kurt = df_byset[signal_cols].apply(pd.DataFrame.kurt).add_suffix('_kurt')\n",
    "df_rms = df_byset[signal_cols].apply(lambda x: np.sqrt(np.mean(x**2))).add_suffix('_rms')\n",
    "\n",
    "joined = df_means.join(df_iqr).join(df_var).join(df_skew).join(df_kurt).join(df_rms)"
   ]
  },
  {
   "cell_type": "code",
   "execution_count": 101,
   "metadata": {},
   "outputs": [
    {
     "data": {
      "text/plain": [
       "Index(['x_gyro_mean', 'y_gyro_mean', 'z_gyro_mean', 'x_acc_mean', 'y_acc_mean',\n",
       "       'z_acc_mean', 'x_gyro_iqr', 'y_gyro_iqr', 'z_gyro_iqr', 'x_acc_iqr',\n",
       "       'y_acc_iqr', 'z_acc_iqr', 'x_gyro_var', 'y_gyro_var', 'z_gyro_var',\n",
       "       'x_acc_var', 'y_acc_var', 'z_acc_var', 'x_gyro_skew', 'y_gyro_skew',\n",
       "       'z_gyro_skew', 'x_acc_skew', 'y_acc_skew', 'z_acc_skew', 'x_gyro_kurt',\n",
       "       'y_gyro_kurt', 'z_gyro_kurt', 'x_acc_kurt', 'y_acc_kurt', 'z_acc_kurt',\n",
       "       'x_gyro_rms', 'y_gyro_rms', 'z_gyro_rms', 'x_acc_rms', 'y_acc_rms',\n",
       "       'z_acc_rms'],\n",
       "      dtype='object')"
      ]
     },
     "execution_count": 101,
     "metadata": {},
     "output_type": "execute_result"
    }
   ],
   "source": [
    "joined.columns"
   ]
  },
  {
   "cell_type": "code",
   "execution_count": 102,
   "metadata": {},
   "outputs": [
    {
     "name": "stdout",
     "output_type": "stream",
     "text": [
      "<class 'pandas.core.frame.DataFrame'>\n",
      "RangeIndex: 1631 entries, 0 to 1630\n",
      "Data columns (total 39 columns):\n",
      " #   Column          Non-Null Count  Dtype  \n",
      "---  ------          --------------  -----  \n",
      " 0   exercise_class  1631 non-null   object \n",
      " 1   activity        1631 non-null   object \n",
      " 2   set_num         1631 non-null   int64  \n",
      " 3   x_gyro_mean     1631 non-null   float64\n",
      " 4   y_gyro_mean     1631 non-null   float64\n",
      " 5   z_gyro_mean     1631 non-null   float64\n",
      " 6   x_acc_mean      1631 non-null   float64\n",
      " 7   y_acc_mean      1631 non-null   float64\n",
      " 8   z_acc_mean      1631 non-null   float64\n",
      " 9   x_gyro_iqr      1631 non-null   float64\n",
      " 10  y_gyro_iqr      1631 non-null   float64\n",
      " 11  z_gyro_iqr      1631 non-null   float64\n",
      " 12  x_acc_iqr       1631 non-null   float64\n",
      " 13  y_acc_iqr       1631 non-null   float64\n",
      " 14  z_acc_iqr       1631 non-null   float64\n",
      " 15  x_gyro_var      1631 non-null   float64\n",
      " 16  y_gyro_var      1631 non-null   float64\n",
      " 17  z_gyro_var      1631 non-null   float64\n",
      " 18  x_acc_var       1631 non-null   float64\n",
      " 19  y_acc_var       1631 non-null   float64\n",
      " 20  z_acc_var       1631 non-null   float64\n",
      " 21  x_gyro_skew     1631 non-null   float64\n",
      " 22  y_gyro_skew     1631 non-null   float64\n",
      " 23  z_gyro_skew     1631 non-null   float64\n",
      " 24  x_acc_skew      1631 non-null   float64\n",
      " 25  y_acc_skew      1631 non-null   float64\n",
      " 26  z_acc_skew      1631 non-null   float64\n",
      " 27  x_gyro_kurt     1631 non-null   float64\n",
      " 28  y_gyro_kurt     1631 non-null   float64\n",
      " 29  z_gyro_kurt     1631 non-null   float64\n",
      " 30  x_acc_kurt      1631 non-null   float64\n",
      " 31  y_acc_kurt      1631 non-null   float64\n",
      " 32  z_acc_kurt      1631 non-null   float64\n",
      " 33  x_gyro_rms      1631 non-null   float64\n",
      " 34  y_gyro_rms      1631 non-null   float64\n",
      " 35  z_gyro_rms      1631 non-null   float64\n",
      " 36  x_acc_rms       1631 non-null   float64\n",
      " 37  y_acc_rms       1631 non-null   float64\n",
      " 38  z_acc_rms       1631 non-null   float64\n",
      "dtypes: float64(36), int64(1), object(2)\n",
      "memory usage: 497.1+ KB\n"
     ]
    }
   ],
   "source": [
    "joined.reset_index(inplace=True)\n",
    "joined.info()"
   ]
  },
  {
   "cell_type": "code",
   "execution_count": 103,
   "metadata": {},
   "outputs": [],
   "source": [
    "#joined.to_csv(\"../bigfiles/grouped_exercise_recognition_data_stats.csv\")"
   ]
  },
  {
   "cell_type": "code",
   "execution_count": 104,
   "metadata": {},
   "outputs": [],
   "source": [
    "joined_df = joined.copy()"
   ]
  },
  {
   "cell_type": "code",
   "execution_count": 105,
   "metadata": {},
   "outputs": [],
   "source": [
    "joined_df.reset_index(inplace=True)"
   ]
  },
  {
   "attachments": {},
   "cell_type": "markdown",
   "metadata": {},
   "source": [
    "## Model - Neural Network"
   ]
  },
  {
   "cell_type": "code",
   "execution_count": 106,
   "metadata": {},
   "outputs": [],
   "source": [
    "# create a function to split the data into training and test sets\n",
    "# each exercise_class should be in both the training and test sets\n",
    "def split_train_test(df, test_size=0.4):\n",
    "    train_set = pd.DataFrame()\n",
    "    test_set = pd.DataFrame()\n",
    "    for exercise_class in df.exercise_class.unique(): \n",
    "        exercise_class_df = df[df.exercise_class == exercise_class]\n",
    "        test_rows = int(len(exercise_class_df) * test_size)\n",
    "        # get a random sample of rows for the test set\n",
    "        test_set_indices = random.sample(list(exercise_class_df.index), test_rows)\n",
    "        test_set = test_set.append(exercise_class_df[exercise_class_df.index.isin(test_set_indices)])\n",
    "        # get the remaining rows for the training set\n",
    "        train_set = train_set.append(exercise_class_df.drop(test_set_indices))\n",
    "    return train_set, test_set"
   ]
  },
  {
   "cell_type": "code",
   "execution_count": 107,
   "metadata": {},
   "outputs": [],
   "source": [
    "class NeuralNetwork(nn.Module):\n",
    "        def __init__(self, input_size, hidden_size, num_classes):\n",
    "            super(NeuralNetwork, self).__init__()\n",
    "            self.fc1 = nn.Linear(input_size, hidden_size)\n",
    "            self.fc2 = nn.Linear(hidden_size, num_classes)\n",
    "        \n",
    "        def forward(self, x):\n",
    "            x = torch.relu(self.fc1(x))\n",
    "            x = self.fc2(x)\n",
    "            return x\n",
    "        \n",
    "def evaluate_model(joined_df):\n",
    "    train_set, test_set = split_train_test(joined_df)\n",
    "    pandas_df = train_set\n",
    "    features = pandas_df.drop(['activity', 'set_num'], axis=1)\n",
    "    target = pandas_df['activity']\n",
    "    scaler = StandardScaler()\n",
    "    scaled_features = scaler.fit_transform(features)\n",
    "    feature_tensor = torch.from_numpy(scaled_features).float()\n",
    "    label_encoder = LabelEncoder()\n",
    "    encoded_target = label_encoder.fit_transform(target)\n",
    "    target_tensor = torch.from_numpy(encoded_target).long()\n",
    "\n",
    "    input_size = feature_tensor.shape[1]\n",
    "    hidden_size = 64\n",
    "    num_classes = target_tensor.max().item() + 1  # Number of unique classes\n",
    "    model = NeuralNetwork(input_size, hidden_size, num_classes)\n",
    "\n",
    "    criterion = nn.CrossEntropyLoss()  \n",
    "    optimizer = optim.SGD(model.parameters(), lr=0.01)\n",
    "\n",
    "    # Train the Neural Network\n",
    "    num_epochs = 200\n",
    "    batch_size = 32\n",
    "    for epoch in range(num_epochs):\n",
    "        correct = 0\n",
    "        total = 0\n",
    "        running_loss = 0.0\n",
    "\n",
    "        for i in range(0, feature_tensor.size(0), batch_size):\n",
    "            batch_features = feature_tensor[i:i+batch_size]\n",
    "            batch_target = target_tensor[i:i+batch_size]\n",
    "\n",
    "            # Forward pass\n",
    "            outputs = model(batch_features)\n",
    "            loss = criterion(outputs, batch_target)\n",
    "\n",
    "            # Backward and optimize\n",
    "            optimizer.zero_grad()\n",
    "            loss.backward()\n",
    "            optimizer.step()\n",
    "\n",
    "            # Calculate accuracy\n",
    "            _, predicted = torch.max(outputs.data, 1)\n",
    "            total += batch_target.size(0)\n",
    "            correct += (predicted == batch_target).sum().item()\n",
    "\n",
    "            # Track running loss\n",
    "            running_loss += loss.item()\n",
    "\n",
    "        # Calculate accuracy and average loss for the epoch\n",
    "        accuracy = correct / total\n",
    "        average_loss = running_loss / (feature_tensor.size(0) / batch_size)\n",
    "\n",
    "        if epoch % 50 == 0:\n",
    "            print(f\"Epoch [{epoch+1}/{num_epochs}], Accuracy: {accuracy:.4f}, Loss: {average_loss:.4f}\")\n",
    "\n",
    "    # Evaluate the Neural Network on the test set\n",
    "    pandas_df = test_set\n",
    "    features = test_set.drop(['activity', 'set_num'], axis=1)\n",
    "    target = pandas_df['activity']\n",
    "\n",
    "    # Scale the features using the same StandardScaler from the training data to prevent data leakage\n",
    "    scaled_features = scaler.transform(features) \n",
    "    feature_tensor = torch.from_numpy(scaled_features).float()\n",
    "    encoded_target = label_encoder.transform(target) \n",
    "    target_tensor = torch.from_numpy(encoded_target).long()\n",
    "\n",
    "    # Predict test_set using the trained NN\n",
    "    test_outputs = model(feature_tensor)\n",
    "    test_loss = criterion(test_outputs, target_tensor)\n",
    "    test_loss_value = test_loss.item()\n",
    "\n",
    "    _, predicted_labels = torch.max(test_outputs, 1)\n",
    "    test_accuracy = (predicted_labels == target_tensor).sum().item() / len(target_tensor)\n",
    "\n",
    "    print(f\"Test Accuracy: {test_accuracy:.4f} Test Cross-Entropy Loss: {test_loss_value:.4f}\")\n",
    "\n",
    "    return model, accuracy, average_loss, test_accuracy, test_loss_value"
   ]
  },
  {
   "cell_type": "code",
   "execution_count": null,
   "metadata": {},
   "outputs": [],
   "source": [
    "infrequent_activities = ['Box Jump (on bench)',\n",
    " 'Lawnmower (label spans both arms)',\n",
    " 'Overhead Triceps Extension (label spans both arms)']\n",
    "\n",
    "joined_df = joined_df[~joined_df.activity.isin(infrequent_activities)]"
   ]
  },
  {
   "cell_type": "code",
   "execution_count": null,
   "metadata": {},
   "outputs": [],
   "source": [
    "# create a function to split the data into training and test sets\n",
    "# each activity should be in both the training and test sets\n",
    "def split_train_test(df, test_size=0.2):\n",
    "    train_set = pd.DataFrame()\n",
    "    test_set = pd.DataFrame()\n",
    "    for activity in df.activity.unique():\n",
    "        activity_df = df[df.activity == activity]\n",
    "        test_rows = int(len(activity_df) * test_size)\n",
    "        test_set = test_set.append(activity_df.iloc[:test_rows])\n",
    "        train_set = train_set.append(activity_df.iloc[test_rows:])\n",
    "    return train_set, test_set\n",
    "\n",
    "train_set, test_set = split_train_test(joined_df)\n"
   ]
  },
  {
   "cell_type": "code",
   "execution_count": null,
   "metadata": {},
   "outputs": [
    {
     "name": "stdout",
     "output_type": "stream",
     "text": [
      "Epoch [1/200], Accuracy: 0.0129, Loss: 4.1066\n",
      "Epoch [11/200], Accuracy: 0.1416, Loss: 3.7109\n",
      "Epoch [21/200], Accuracy: 0.2226, Loss: 3.3617\n",
      "Epoch [31/200], Accuracy: 0.3134, Loss: 2.9829\n",
      "Epoch [41/200], Accuracy: 0.3770, Loss: 2.5939\n",
      "Epoch [51/200], Accuracy: 0.4580, Loss: 2.2414\n",
      "Epoch [61/200], Accuracy: 0.5443, Loss: 1.9437\n",
      "Epoch [71/200], Accuracy: 0.6064, Loss: 1.7008\n",
      "Epoch [81/200], Accuracy: 0.6548, Loss: 1.5044\n",
      "Epoch [91/200], Accuracy: 0.6911, Loss: 1.3451\n",
      "Epoch [101/200], Accuracy: 0.7298, Loss: 1.2145\n",
      "Epoch [111/200], Accuracy: 0.7623, Loss: 1.1059\n",
      "Epoch [121/200], Accuracy: 0.7759, Loss: 1.0147\n",
      "Epoch [131/200], Accuracy: 0.7880, Loss: 0.9373\n",
      "Epoch [141/200], Accuracy: 0.8062, Loss: 0.8712\n",
      "Epoch [151/200], Accuracy: 0.8168, Loss: 0.8141\n",
      "Epoch [161/200], Accuracy: 0.8319, Loss: 0.7644\n",
      "Epoch [171/200], Accuracy: 0.8441, Loss: 0.7208\n",
      "Epoch [181/200], Accuracy: 0.8509, Loss: 0.6822\n",
      "Epoch [191/200], Accuracy: 0.8554, Loss: 0.6479\n"
     ]
    }
   ],
   "source": [
    "# Step 1: Preparing the Data\n",
    "pandas_df = train_set\n",
    "features = pandas_df.drop(['activity', 'set_num'], axis=1)\n",
    "target = pandas_df['activity']\n",
    "\n",
    "# Step 2: Feature Scaling\n",
    "scaler = StandardScaler()\n",
    "scaled_features = scaler.fit_transform(features)\n",
    "\n",
    "# Step 3: Convert Data to PyTorch Tensors\n",
    "feature_tensor = torch.from_numpy(scaled_features).float()\n",
    "\n",
    "# Encode the categorical target variable using LabelEncoder\n",
    "label_encoder = LabelEncoder()\n",
    "encoded_target = label_encoder.fit_transform(target)\n",
    "\n",
    "target_tensor = torch.from_numpy(encoded_target).long()\n",
    "\n",
    "# Step 4: Define the Neural Network Architecture\n",
    "class NeuralNetwork(nn.Module):\n",
    "    def __init__(self, input_size, hidden_size, num_classes):\n",
    "        super(NeuralNetwork, self).__init__()\n",
    "        self.fc1 = nn.Linear(input_size, hidden_size)\n",
    "        self.fc2 = nn.Linear(hidden_size, num_classes)\n",
    "    \n",
    "    def forward(self, x):\n",
    "        x = torch.relu(self.fc1(x))\n",
    "        x = self.fc2(x)\n",
    "        return x\n",
    "\n",
    "input_size = feature_tensor.shape[1]\n",
    "hidden_size = 64\n",
    "num_classes = target_tensor.max().item() + 1  # Number of unique classes\n",
    "model = NeuralNetwork(input_size, hidden_size, num_classes)\n",
    "\n",
    "# Step 5: Define the Loss Function and Optimizer\n",
    "criterion = nn.CrossEntropyLoss()  # Cross-entropy loss for classification\n",
    "optimizer = optim.SGD(model.parameters(), lr=0.01)\n",
    "\n",
    "# Step 6: Training the Neural Network\n",
    "num_epochs = 200\n",
    "batch_size = 32\n",
    "\n",
    "for epoch in range(num_epochs):\n",
    "    correct = 0\n",
    "    total = 0\n",
    "    running_loss = 0.0\n",
    "\n",
    "    for i in range(0, feature_tensor.size(0), batch_size):\n",
    "        batch_features = feature_tensor[i:i+batch_size]\n",
    "        batch_target = target_tensor[i:i+batch_size]\n",
    "\n",
    "        # Forward pass\n",
    "        outputs = model(batch_features)\n",
    "        loss = criterion(outputs, batch_target)\n",
    "\n",
    "        # Backward and optimize\n",
    "        optimizer.zero_grad()\n",
    "        loss.backward()\n",
    "        optimizer.step()\n",
    "\n",
    "        # Calculate accuracy\n",
    "        _, predicted = torch.max(outputs.data, 1)\n",
    "        total += batch_target.size(0)\n",
    "        correct += (predicted == batch_target).sum().item()\n",
    "\n",
    "        # Track running loss\n",
    "        running_loss += loss.item()\n",
    "\n",
    "    # Calculate accuracy and average loss for the epoch\n",
    "    accuracy = correct / total\n",
    "    average_loss = running_loss / (feature_tensor.size(0) / batch_size)\n",
    "\n",
    "    if epoch % 10 == 0:\n",
    "        print(f\"Epoch [{epoch+1}/{num_epochs}], Accuracy: {accuracy:.4f}, Loss: {average_loss:.4f}\")\n"
   ]
  },
  {
   "cell_type": "code",
   "execution_count": null,
   "metadata": {},
   "outputs": [
    {
     "name": "stdout",
     "output_type": "stream",
     "text": [
      "Test Accuracy: 0.7903\n",
      "Test Cross-Entropy Loss: 0.7727\n"
     ]
    }
   ],
   "source": [
    "# Step 1: Preparing the Data\n",
    "pandas_df = test_set\n",
    "features = test_set.drop(['activity', 'set_num'], axis=1)\n",
    "target = pandas_df['activity']\n",
    "\n",
    "# Step 2: Feature Scaling\n",
    "scaled_features = scaler.transform(features)  # Use transform instead of fit_transform for test set\n",
    "\n",
    "# Step 3: Convert Data to PyTorch Tensors\n",
    "feature_tensor = torch.from_numpy(scaled_features).float()\n",
    "\n",
    "# Encode the categorical target variable using LabelEncoder\n",
    "encoded_target = label_encoder.transform(target)  # Use transform instead of fit_transform for test set\n",
    "target_tensor = torch.from_numpy(encoded_target).long()\n",
    "\n",
    "# Predict test_set using the trained NN\n",
    "test_outputs = model(feature_tensor)\n",
    "test_loss = criterion(test_outputs, target_tensor)\n",
    "test_loss_value = test_loss.item()\n",
    "\n",
    "# Calculate accuracy\n",
    "_, predicted_labels = torch.max(test_outputs, 1)\n",
    "accuracy = (predicted_labels == target_tensor).sum().item() / len(target_tensor)\n",
    "\n",
    "# Print accuracy and cross-entropy loss for the test set\n",
    "print(f\"Test Accuracy: {accuracy:.4f}\")\n",
    "print(f\"Test Cross-Entropy Loss: {test_loss_value:.4f}\")"
   ]
  },
  {
   "cell_type": "code",
   "execution_count": null,
   "metadata": {},
   "outputs": [],
   "source": [
    "# get the class that is the most incorrectly classified\n",
    "_, predicted = torch.max(test_outputs, 1)\n",
    "predicted = predicted.numpy()\n",
    "predicted = label_encoder.inverse_transform(predicted)\n",
    "actual = target_tensor.numpy()\n",
    "actual = label_encoder.inverse_transform(actual)\n",
    "incorrect = predicted != actual\n",
    "incorrect_df = test_set[incorrect]\n"
   ]
  },
  {
   "cell_type": "code",
   "execution_count": null,
   "metadata": {},
   "outputs": [
    {
     "data": {
      "text/plain": [
       "<AxesSubplot:title={'center':'Test Count (activity)'}>"
      ]
     },
     "metadata": {},
     "output_type": "display_data"
    },
    {
     "data": {
      "image/png": "[encoded data removed]",
      "text/plain": [
       "<Figure size 432x288 with 1 Axes>"
      ]
     },
     "metadata": {},
     "output_type": "display_data"
    }
   ],
   "source": [
    "test_set.activity.value_counts().plot(kind='barh', title='Test Count (activity)')"
   ]
  },
  {
   "cell_type": "code",
   "execution_count": null,
   "metadata": {},
   "outputs": [
    {
     "data": {
      "text/plain": [
       "<AxesSubplot:title={'center':'Train Count (activity)'}>"
      ]
     },
     "metadata": {},
     "output_type": "display_data"
    },
    {
     "data": {
      "image/png": "[encoded data removed]",
      "text/plain": [
       "<Figure size 432x288 with 1 Axes>"
      ]
     },
     "metadata": {},
     "output_type": "display_data"
    }
   ],
   "source": [
    "train_activity_counts = train_set.activity.value_counts()\n",
    "train_activity_counts[train_activity_counts < 20].plot(kind='barh', title='Train Count (activity)')"
   ]
  },
  {
   "cell_type": "code",
   "execution_count": null,
   "metadata": {},
   "outputs": [
    {
     "data": {
      "text/plain": [
       "<AxesSubplot:title={'center':'Incorrect Count (activity)'}>"
      ]
     },
     "metadata": {},
     "output_type": "display_data"
    },
    {
     "data": {
      "image/png": "[encoded data removed]",
      "text/plain": [
       "<Figure size 432x288 with 1 Axes>"
      ]
     },
     "metadata": {},
     "output_type": "display_data"
    }
   ],
   "source": [
    "\n",
    "incorrect_df.activity.value_counts().plot(kind='barh', title='Incorrect Count (activity)')"
   ]
  },
  {
   "cell_type": "code",
   "execution_count": 108,
   "metadata": {},
   "outputs": [
    {
     "name": "stdout",
     "output_type": "stream",
     "text": [
      "Epoch [1/200], Accuracy: 0.0253, Loss: 3.4517\n"
     ]
    },
    {
     "name": "stdout",
     "output_type": "stream",
     "text": [
      "Epoch [51/200], Accuracy: 0.5915, Loss: 1.4591\n",
      "Epoch [101/200], Accuracy: 0.7968, Loss: 0.7985\n",
      "Epoch [151/200], Accuracy: 0.8837, Loss: 0.5168\n",
      "Test Accuracy: 0.8489 Test Cross-Entropy Loss: 0.5796\n",
      "=== Accuracy: 0.9262, Loss: 0.3736, Test Accuracy: 0.8489, Test Loss: 0.5796\n",
      "Epoch [1/200], Accuracy: 0.0243, Loss: 3.3859\n",
      "Epoch [51/200], Accuracy: 0.6067, Loss: 1.4662\n",
      "Epoch [101/200], Accuracy: 0.8049, Loss: 0.8177\n",
      "Epoch [151/200], Accuracy: 0.8868, Loss: 0.5366\n",
      "Test Accuracy: 0.8676 Test Cross-Entropy Loss: 0.5638\n",
      "=== Accuracy: 0.9130, Loss: 0.3962, Test Accuracy: 0.8676, Test Loss: 0.5638\n",
      "Epoch [1/200], Accuracy: 0.0617, Loss: 3.4121\n",
      "Epoch [51/200], Accuracy: 0.5743, Loss: 1.4735\n",
      "Epoch [101/200], Accuracy: 0.7765, Loss: 0.8528\n",
      "Epoch [151/200], Accuracy: 0.8797, Loss: 0.5729\n",
      "Test Accuracy: 0.8816 Test Cross-Entropy Loss: 0.5137\n",
      "=== Accuracy: 0.9039, Loss: 0.4272, Test Accuracy: 0.8816, Test Loss: 0.5137\n",
      "Cross-validated test loss: 0.5524, Cross-validated test accuracy: 0.8660\n"
     ]
    }
   ],
   "source": [
    "# cross validate\n",
    "k = 3\n",
    "test_loss_values = []\n",
    "test_accuracies = []\n",
    "for i in range(3):\n",
    "    model, train_accuracy, train_average_loss, test_accuracy, test_loss_value = evaluate_model(joined_df)\n",
    "    print(f\"=== Accuracy: {train_accuracy:.4f}, Loss: {train_average_loss:.4f}, Test Accuracy: {test_accuracy:.4f}, Test Loss: {test_loss_value:.4f}\")\n",
    "    test_loss_values.append(test_loss_value)\n",
    "    test_accuracies.append(test_accuracy)\n",
    "\n",
    "print(f\"Cross-validated test loss: {np.mean(test_loss_values):.4f}, Cross-validated test accuracy: {np.mean(test_accuracies):.4f}\")"
   ]
  }
 ],
 "metadata": {
  "kernelspec": {
   "display_name": "Python 3.9.13 ('base')",
   "language": "python",
   "name": "python3"
  },
  "language_info": {
   "codemirror_mode": {
    "name": "ipython",
    "version": 3
   },
   "file_extension": ".py",
   "mimetype": "text/x-python",
   "name": "python",
   "nbconvert_exporter": "python",
   "pygments_lexer": "ipython3",
   "version": "3.6.8"
  },
  "orig_nbformat": 4,
  "vscode": {
   "interpreter": {
    "hash": "ca4bdd2ec3710d32cba740d0f2a8504a4cffd42a76bfba64146e079be5d25276"
   }
  }
 },
 "nbformat": 4,
 "nbformat_minor": 2
}
