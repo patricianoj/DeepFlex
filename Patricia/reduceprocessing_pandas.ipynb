{
 "cells": [
  {
   "attachments": {},
   "cell_type": "markdown",
   "metadata": {},
   "source": [
    "# Recognize Exercise Name Using Aggregated Statistics from the Signals\n",
    "- Model Neural Network\n",
    "- Cross-validated test cross entropy loss: 0.9979, Cross-validated test accuracy: 0.7598"
   ]
  },
  {
   "attachments": {},
   "cell_type": "markdown",
   "metadata": {},
   "source": [
    "#### Import libraries"
   ]
  },
  {
   "cell_type": "code",
   "execution_count": 6,
   "metadata": {},
   "outputs": [],
   "source": [
    "import matplotlib.pyplot as plt\n",
    "import multiprocessing\n",
    "import numpy as np\n",
    "import pandas as pd\n",
    "from pyspark.ml.feature import VectorAssembler\n",
    "from pyspark.ml.feature import PCA\n",
    "from pyspark.sql import SparkSession\n",
    "from pyspark.sql.functions import col, lag, udf, greatest, least, struct\n",
    "from pyspark.sql.types import *\n",
    "import random\n",
    "import scipy.signal as signal\n",
    "import scipy.io\n",
    "import warnings\n",
    "\n",
    "import torch\n",
    "import torch.nn as nn\n",
    "import torch.optim as optim\n",
    "import pandas as pd\n",
    "from sklearn.metrics import accuracy_score\n",
    "from sklearn.preprocessing import StandardScaler\n",
    "from sklearn.preprocessing import LabelEncoder\n",
    "\n",
    "warnings.filterwarnings('ignore')"
   ]
  },
  {
   "attachments": {},
   "cell_type": "markdown",
   "metadata": {},
   "source": [
    "## Load Data\n",
    "Data comes in the format of 1 row for each time point"
   ]
  },
  {
   "cell_type": "code",
   "execution_count": 7,
   "metadata": {},
   "outputs": [
    {
     "name": "stdout",
     "output_type": "stream",
     "text": [
      "<class 'pandas.core.frame.DataFrame'>\n",
      "RangeIndex: 6134191 entries, 0 to 6134190\n",
      "Data columns (total 11 columns):\n",
      " #   Column      Dtype  \n",
      "---  ------      -----  \n",
      " 0   Unnamed: 0  int64  \n",
      " 1   set_num     int64  \n",
      " 2   activity    object \n",
      " 3   time        float64\n",
      " 4   x_gyro      float64\n",
      " 5   y_gyro      float64\n",
      " 6   z_gyro      float64\n",
      " 7   x_acc       float64\n",
      " 8   y_acc       float64\n",
      " 9   z_acc       float64\n",
      " 10  label       float64\n",
      "dtypes: float64(8), int64(2), object(1)\n",
      "memory usage: 514.8+ MB\n"
     ]
    }
   ],
   "source": [
    "df = pd.read_csv(\"../bigfiles/exercise_recognition_data.csv\")\n",
    "df.info()"
   ]
  },
  {
   "cell_type": "code",
   "execution_count": 8,
   "metadata": {},
   "outputs": [],
   "source": [
    "# remove infrequent activities\n",
    "infrequent_activities = ['Box Jump (on bench)',\n",
    " 'Lawnmower (label spans both arms)',\n",
    " 'Overhead Triceps Extension (label spans both arms)']\n",
    "\n",
    "df = df[~df['activity'].isin(infrequent_activities)]"
   ]
  },
  {
   "cell_type": "code",
   "execution_count": 9,
   "metadata": {},
   "outputs": [],
   "source": [
    "df_byset = df.groupby([\"activity\",\"set_num\"])\n",
    "signal_cols = [col for col in df.columns if col.startswith(\"x\") or col.startswith(\"y\") or col.startswith(\"z\")]\n"
   ]
  },
  {
   "attachments": {},
   "cell_type": "markdown",
   "metadata": {},
   "source": [
    "## Data Preprocessing\n",
    "Compute features: interquartile range, variance, skewness, kurtosis, root mean square error of the signal amplitude\n",
    "aggregated for each set"
   ]
  },
  {
   "cell_type": "code",
   "execution_count": 10,
   "metadata": {},
   "outputs": [],
   "source": [
    "df_means = df_byset[signal_cols].mean().add_suffix('_mean')\n",
    "df_iqr = df_byset[signal_cols].quantile(0.75) - df_byset[signal_cols].quantile(0.25)\n",
    "df_iqr = df_iqr.add_suffix('_iqr')\n",
    "df_var = df_byset[signal_cols].var().add_suffix('_var')\n",
    "df_skew = df_byset[signal_cols].skew().add_suffix('_skew')\n",
    "df_kurt = df_byset[signal_cols].apply(pd.DataFrame.kurt).add_suffix('_kurt')\n",
    "df_rms = df_byset[signal_cols].apply(lambda x: np.sqrt(np.mean(x**2))).add_suffix('_rms')\n",
    "\n",
    "joined = df_means.join(df_iqr).join(df_var).join(df_skew).join(df_kurt).join(df_rms)"
   ]
  },
  {
   "cell_type": "code",
   "execution_count": 11,
   "metadata": {},
   "outputs": [
    {
     "data": {
      "text/plain": [
       "Index(['x_gyro_mean', 'y_gyro_mean', 'z_gyro_mean', 'x_acc_mean', 'y_acc_mean',\n",
       "       'z_acc_mean', 'x_gyro_iqr', 'y_gyro_iqr', 'z_gyro_iqr', 'x_acc_iqr',\n",
       "       'y_acc_iqr', 'z_acc_iqr', 'x_gyro_var', 'y_gyro_var', 'z_gyro_var',\n",
       "       'x_acc_var', 'y_acc_var', 'z_acc_var', 'x_gyro_skew', 'y_gyro_skew',\n",
       "       'z_gyro_skew', 'x_acc_skew', 'y_acc_skew', 'z_acc_skew', 'x_gyro_kurt',\n",
       "       'y_gyro_kurt', 'z_gyro_kurt', 'x_acc_kurt', 'y_acc_kurt', 'z_acc_kurt',\n",
       "       'x_gyro_rms', 'y_gyro_rms', 'z_gyro_rms', 'x_acc_rms', 'y_acc_rms',\n",
       "       'z_acc_rms'],\n",
       "      dtype='object')"
      ]
     },
     "execution_count": 11,
     "metadata": {},
     "output_type": "execute_result"
    }
   ],
   "source": [
    "joined.columns"
   ]
  },
  {
   "cell_type": "code",
   "execution_count": 12,
   "metadata": {},
   "outputs": [
    {
     "name": "stdout",
     "output_type": "stream",
     "text": [
      "<class 'pandas.core.frame.DataFrame'>\n",
      "RangeIndex: 1631 entries, 0 to 1630\n",
      "Data columns (total 38 columns):\n",
      " #   Column       Non-Null Count  Dtype  \n",
      "---  ------       --------------  -----  \n",
      " 0   activity     1631 non-null   object \n",
      " 1   set_num      1631 non-null   int64  \n",
      " 2   x_gyro_mean  1631 non-null   float64\n",
      " 3   y_gyro_mean  1631 non-null   float64\n",
      " 4   z_gyro_mean  1631 non-null   float64\n",
      " 5   x_acc_mean   1631 non-null   float64\n",
      " 6   y_acc_mean   1631 non-null   float64\n",
      " 7   z_acc_mean   1631 non-null   float64\n",
      " 8   x_gyro_iqr   1631 non-null   float64\n",
      " 9   y_gyro_iqr   1631 non-null   float64\n",
      " 10  z_gyro_iqr   1631 non-null   float64\n",
      " 11  x_acc_iqr    1631 non-null   float64\n",
      " 12  y_acc_iqr    1631 non-null   float64\n",
      " 13  z_acc_iqr    1631 non-null   float64\n",
      " 14  x_gyro_var   1631 non-null   float64\n",
      " 15  y_gyro_var   1631 non-null   float64\n",
      " 16  z_gyro_var   1631 non-null   float64\n",
      " 17  x_acc_var    1631 non-null   float64\n",
      " 18  y_acc_var    1631 non-null   float64\n",
      " 19  z_acc_var    1631 non-null   float64\n",
      " 20  x_gyro_skew  1631 non-null   float64\n",
      " 21  y_gyro_skew  1631 non-null   float64\n",
      " 22  z_gyro_skew  1631 non-null   float64\n",
      " 23  x_acc_skew   1631 non-null   float64\n",
      " 24  y_acc_skew   1631 non-null   float64\n",
      " 25  z_acc_skew   1631 non-null   float64\n",
      " 26  x_gyro_kurt  1631 non-null   float64\n",
      " 27  y_gyro_kurt  1631 non-null   float64\n",
      " 28  z_gyro_kurt  1631 non-null   float64\n",
      " 29  x_acc_kurt   1631 non-null   float64\n",
      " 30  y_acc_kurt   1631 non-null   float64\n",
      " 31  z_acc_kurt   1631 non-null   float64\n",
      " 32  x_gyro_rms   1631 non-null   float64\n",
      " 33  y_gyro_rms   1631 non-null   float64\n",
      " 34  z_gyro_rms   1631 non-null   float64\n",
      " 35  x_acc_rms    1631 non-null   float64\n",
      " 36  y_acc_rms    1631 non-null   float64\n",
      " 37  z_acc_rms    1631 non-null   float64\n",
      "dtypes: float64(36), int64(1), object(1)\n",
      "memory usage: 484.3+ KB\n"
     ]
    }
   ],
   "source": [
    "joined.reset_index(inplace=True)\n",
    "joined.info()"
   ]
  },
  {
   "cell_type": "code",
   "execution_count": 13,
   "metadata": {},
   "outputs": [],
   "source": [
    "#joined.to_csv(\"../bigfiles/exercise_recognition_data_stats2.csv\")"
   ]
  },
  {
   "attachments": {},
   "cell_type": "markdown",
   "metadata": {},
   "source": [
    "## Model - Neural Network"
   ]
  },
  {
   "cell_type": "code",
   "execution_count": 45,
   "metadata": {},
   "outputs": [],
   "source": [
    "joined_df = joined.reset_index(inplace=False).copy()"
   ]
  },
  {
   "cell_type": "code",
   "execution_count": 55,
   "metadata": {},
   "outputs": [],
   "source": [
    "# create a function to split the data into training and test sets\n",
    "# each activity should be in both the training and test sets\n",
    "def split_train_test(df, test_size=0.4):\n",
    "    train_set = pd.DataFrame()\n",
    "    test_set = pd.DataFrame()\n",
    "    for activity in df.activity.unique(): \n",
    "        activity_df = df[df.activity == activity]\n",
    "        test_rows = int(len(activity_df) * test_size)\n",
    "        # get a random sample of rows for the test set\n",
    "        test_set_indices = random.sample(list(activity_df.index), test_rows)\n",
    "        test_set = test_set.append(activity_df[activity_df.index.isin(test_set_indices)])\n",
    "        # get the remaining rows for the training set\n",
    "        train_set = train_set.append(activity_df.drop(test_set_indices))\n",
    "    return train_set, test_set"
   ]
  },
  {
   "cell_type": "code",
   "execution_count": 34,
   "metadata": {},
   "outputs": [],
   "source": [
    "class NeuralNetwork(nn.Module):\n",
    "        def __init__(self, input_size, hidden_size, num_classes):\n",
    "            super(NeuralNetwork, self).__init__()\n",
    "            self.fc1 = nn.Linear(input_size, hidden_size)\n",
    "            self.fc2 = nn.Linear(hidden_size, num_classes)\n",
    "        \n",
    "        def forward(self, x):\n",
    "            x = torch.relu(self.fc1(x))\n",
    "            x = self.fc2(x)\n",
    "            return x\n",
    "        \n",
    "def evaluate_model(joined_df):\n",
    "    train_set, test_set = split_train_test(joined_df)\n",
    "    pandas_df = train_set\n",
    "    features = pandas_df.drop(['activity', 'set_num'], axis=1)\n",
    "    target = pandas_df['activity']\n",
    "    scaler = StandardScaler()\n",
    "    scaled_features = scaler.fit_transform(features)\n",
    "    feature_tensor = torch.from_numpy(scaled_features).float()\n",
    "    label_encoder = LabelEncoder()\n",
    "    encoded_target = label_encoder.fit_transform(target)\n",
    "    target_tensor = torch.from_numpy(encoded_target).long()\n",
    "\n",
    "    input_size = feature_tensor.shape[1]\n",
    "    hidden_size = 64\n",
    "    num_classes = target_tensor.max().item() + 1  # Number of unique classes\n",
    "    model = NeuralNetwork(input_size, hidden_size, num_classes)\n",
    "\n",
    "    criterion = nn.CrossEntropyLoss()  \n",
    "    optimizer = optim.SGD(model.parameters(), lr=0.01)\n",
    "\n",
    "    # Train the Neural Network\n",
    "    num_epochs = 200\n",
    "    batch_size = 32\n",
    "    for epoch in range(num_epochs):\n",
    "        correct = 0\n",
    "        total = 0\n",
    "        running_loss = 0.0\n",
    "\n",
    "        for i in range(0, feature_tensor.size(0), batch_size):\n",
    "            batch_features = feature_tensor[i:i+batch_size]\n",
    "            batch_target = target_tensor[i:i+batch_size]\n",
    "\n",
    "            # Forward pass\n",
    "            outputs = model(batch_features)\n",
    "            loss = criterion(outputs, batch_target)\n",
    "\n",
    "            # Backward and optimize\n",
    "            optimizer.zero_grad()\n",
    "            loss.backward()\n",
    "            optimizer.step()\n",
    "\n",
    "            # Calculate accuracy\n",
    "            _, predicted = torch.max(outputs.data, 1)\n",
    "            total += batch_target.size(0)\n",
    "            correct += (predicted == batch_target).sum().item()\n",
    "\n",
    "            # Track running loss\n",
    "            running_loss += loss.item()\n",
    "\n",
    "        # Calculate accuracy and average loss for the epoch\n",
    "        accuracy = correct / total\n",
    "        average_loss = running_loss / (feature_tensor.size(0) / batch_size)\n",
    "\n",
    "        if epoch % 50 == 0:\n",
    "            print(f\"Epoch [{epoch+1}/{num_epochs}], Accuracy: {accuracy:.4f}, Loss: {average_loss:.4f}\")\n",
    "\n",
    "    # Evaluate the Neural Network on the test set\n",
    "    pandas_df = test_set\n",
    "    features = test_set.drop(['activity', 'set_num'], axis=1)\n",
    "    target = pandas_df['activity']\n",
    "\n",
    "    # Scale the features using the same StandardScaler from the training data to prevent data leakage\n",
    "    scaled_features = scaler.transform(features) \n",
    "    feature_tensor = torch.from_numpy(scaled_features).float()\n",
    "    encoded_target = label_encoder.transform(target) \n",
    "    target_tensor = torch.from_numpy(encoded_target).long()\n",
    "\n",
    "    # Predict test_set using the trained NN\n",
    "    test_outputs = model(feature_tensor)\n",
    "    test_loss = criterion(test_outputs, target_tensor)\n",
    "    test_loss_value = test_loss.item()\n",
    "\n",
    "    _, predicted_labels = torch.max(test_outputs, 1)\n",
    "    test_accuracy = (predicted_labels == target_tensor).sum().item() / len(target_tensor)\n",
    "\n",
    "    print(f\"Test Accuracy: {test_accuracy:.4f} Test Cross-Entropy Loss: {test_loss_value:.4f}\")\n",
    "\n",
    "    return model, accuracy, average_loss, test_accuracy, test_loss_value"
   ]
  },
  {
   "cell_type": "code",
   "execution_count": 57,
   "metadata": {},
   "outputs": [
    {
     "name": "stdout",
     "output_type": "stream",
     "text": [
      "Epoch [1/200], Accuracy: 0.0151, Loss: 4.1929\n",
      "Epoch [51/200], Accuracy: 0.3753, Loss: 2.4983\n",
      "Epoch [101/200], Accuracy: 0.7082, Loss: 1.3858\n",
      "Epoch [151/200], Accuracy: 0.8249, Loss: 0.8862\n",
      "Test Accuracy: 0.7441 Test Cross-Entropy Loss: 0.9986\n",
      "=== Accuracy: 0.8712, Loss: 0.6430, Test Accuracy: 0.7441, Test Loss: 0.9986\n",
      "Epoch [1/200], Accuracy: 0.0111, Loss: 4.1949\n",
      "Epoch [51/200], Accuracy: 0.3853, Loss: 2.4716\n",
      "Epoch [101/200], Accuracy: 0.6972, Loss: 1.3706\n",
      "Epoch [151/200], Accuracy: 0.8129, Loss: 0.8874\n",
      "Test Accuracy: 0.7630 Test Cross-Entropy Loss: 0.9765\n",
      "=== Accuracy: 0.8662, Loss: 0.6486, Test Accuracy: 0.7630, Test Loss: 0.9765\n",
      "Epoch [1/200], Accuracy: 0.0060, Loss: 4.2264\n",
      "Epoch [51/200], Accuracy: 0.3340, Loss: 2.5684\n",
      "Epoch [101/200], Accuracy: 0.6600, Loss: 1.4613\n",
      "Epoch [151/200], Accuracy: 0.8008, Loss: 0.9529\n",
      "Test Accuracy: 0.7724 Test Cross-Entropy Loss: 1.0186\n",
      "=== Accuracy: 0.8501, Loss: 0.6971, Test Accuracy: 0.7724, Test Loss: 1.0186\n",
      "Cross-validated test loss: 0.9979, Cross-validated test accuracy: 0.7598\n"
     ]
    }
   ],
   "source": [
    "# 3-fold cross validation\n",
    "k = 3\n",
    "test_loss_values = []\n",
    "test_accuracies = []\n",
    "for i in range(3):\n",
    "    model, train_accuracy, train_average_loss, test_accuracy, test_loss_value = evaluate_model(joined_df)\n",
    "    print(f\"=== Accuracy: {train_accuracy:.4f}, \" +\n",
    "          f\"Loss: {train_average_loss:.4f}, Test Accuracy: \" +\n",
    "          f\"{test_accuracy:.4f}, Test Loss: {test_loss_value:.4f}\")\n",
    "    test_loss_values.append(test_loss_value)\n",
    "    test_accuracies.append(test_accuracy)\n",
    "\n",
    "print(f\"Cross-validated test loss: {np.mean(test_loss_values):.4f}, \" +\n",
    "      f\"Cross-validated test accuracy: {np.mean(test_accuracies):.4f}\")"
   ]
  },
  {
   "cell_type": "code",
   "execution_count": 18,
   "metadata": {},
   "outputs": [],
   "source": [
    "# get the class that is the most incorrectly classified\n",
    "_, predicted = torch.max(test_outputs, 1)\n",
    "predicted = predicted.numpy()\n",
    "predicted = label_encoder.inverse_transform(predicted)\n",
    "actual = target_tensor.numpy()\n",
    "actual = label_encoder.inverse_transform(actual)\n",
    "incorrect = predicted != actual\n",
    "incorrect_df = test_set[incorrect]"
   ]
  },
  {
   "cell_type": "code",
   "execution_count": 22,
   "metadata": {},
   "outputs": [
    {
     "data": {
      "text/plain": [
       "<AxesSubplot:title={'center':'Test Count (activity)'}>"
      ]
     },
     "execution_count": 22,
     "metadata": {},
     "output_type": "execute_result"
    },
    {
     "data": {
      "image/png": "[encoded data removed]",
      "text/plain": [
       "<Figure size 432x288 with 1 Axes>"
      ]
     },
     "metadata": {
      "needs_background": "light"
     },
     "output_type": "display_data"
    }
   ],
   "source": [
    "test_set_counts = test_set.activity.value_counts()\n",
    "test_set_counts[test_set_counts < 5].plot(kind='barh', title='Test Count (activity)')"
   ]
  },
  {
   "cell_type": "code",
   "execution_count": 20,
   "metadata": {},
   "outputs": [
    {
     "data": {
      "text/plain": [
       "<AxesSubplot:title={'center':'Train Count (activity)'}>"
      ]
     },
     "execution_count": 20,
     "metadata": {},
     "output_type": "execute_result"
    },
    {
     "data": {
      "image/png": "[encoded data removed]",
      "text/plain": [
       "<Figure size 432x288 with 1 Axes>"
      ]
     },
     "metadata": {
      "needs_background": "light"
     },
     "output_type": "display_data"
    }
   ],
   "source": [
    "train_activity_counts = train_set.activity.value_counts()\n",
    "train_activity_counts[train_activity_counts < 20].plot(kind='barh', title='Train Count (activity)')"
   ]
  },
  {
   "cell_type": "code",
   "execution_count": 23,
   "metadata": {},
   "outputs": [
    {
     "data": {
      "text/plain": [
       "<AxesSubplot:title={'center':'Incorrect Count (activity)'}>"
      ]
     },
     "execution_count": 23,
     "metadata": {},
     "output_type": "execute_result"
    },
    {
     "data": {
      "image/png": "[encoded data removed]",
      "text/plain": [
       "<Figure size 432x288 with 1 Axes>"
      ]
     },
     "metadata": {
      "needs_background": "light"
     },
     "output_type": "display_data"
    }
   ],
   "source": [
    "incorrect_counts = incorrect_df.activity.value_counts()\n",
    "incorrect_counts[incorrect_counts > 2].plot(kind='barh', title='Incorrect Count (activity)')"
   ]
  },
  {
   "cell_type": "code",
   "execution_count": null,
   "metadata": {},
   "outputs": [],
   "source": []
  }
 ],
 "metadata": {
  "kernelspec": {
   "display_name": "Python 3.9.13 ('base')",
   "language": "python",
   "name": "python3"
  },
  "language_info": {
   "codemirror_mode": {
    "name": "ipython",
    "version": 3
   },
   "file_extension": ".py",
   "mimetype": "text/x-python",
   "name": "python",
   "nbconvert_exporter": "python",
   "pygments_lexer": "ipython3",
   "version": "3.6.8"
  },
  "orig_nbformat": 4,
  "vscode": {
   "interpreter": {
    "hash": "ca4bdd2ec3710d32cba740d0f2a8504a4cffd42a76bfba64146e079be5d25276"
   }
  }
 },
 "nbformat": 4,
 "nbformat_minor": 2
}
